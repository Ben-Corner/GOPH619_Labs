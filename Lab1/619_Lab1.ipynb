{
 "cells": [
  {
   "attachments": {},
   "cell_type": "markdown",
   "metadata": {},
   "source": [
    "# GOPH 619 Lab1\n",
    "\n",
    "\n",
    "### Question 1:\n",
    "Express the number 1.481 in floating point binary format, as\n",
    "discussed in class. Clearly show the binary strings representing the\n",
    "exponent and the mantissa. At what digit does the “true error” in the\n",
    "mantissa reach zero? Do you think that your result has zero round-off\n",
    "error? Explain"
   ]
  },
  {
   "cell_type": "code",
   "execution_count": 130,
   "metadata": {},
   "outputs": [
    {
     "name": "stdout",
     "output_type": "stream",
     "text": [
      "Mantissa #: 0.7405 Exponent #: 1\n",
      "Exponent: [0. 0. 0. 0. 0. 0. 0. 0. 1. 0.] Mantissa: [1. 0. 1. 1. 1. 1. 0. 1. 1. 0. 0. 1. 0. 0. 0. 1. 0. 1. 1. 0. 1. 0. 0. 0.\n",
      " 0. 1. 1. 1. 0. 0. 1. 0. 1. 0. 1. 1. 0. 0. 0. 0. 0. 0. 1. 0. 0. 0. 0. 0.\n",
      " 1. 1. 0. 0. 0.]\n"
     ]
    }
   ],
   "source": [
    "######\n",
    "#New attempt\n",
    "import numpy as np\n",
    "####Convert Decimal to mantissa and exponent\n",
    "def decimal_2_mne(num):\n",
    "    ########Convert decimal to base 2\n",
    "    #Find if num is greater or less than 1\n",
    "    n = 0\n",
    "    while True:\n",
    "        if num >1:\n",
    "            num /= 2\n",
    "            e = n+1\n",
    "            n += 1\n",
    "            #print(remainder,'if')\n",
    "        else:\n",
    "            num *= 2\n",
    "            e = n-1\n",
    "            n +=1\n",
    "            #print(remainder,'else')\n",
    "        if num>=0.5 and num <1:\n",
    "            break\n",
    "    print(\"Mantissa #:\", num, \"Exponent #:\", e)\n",
    "    return num, e\n",
    "\n",
    "man, e = decimal_2_mne(1.481)\n",
    "\n",
    "\n",
    "####Convert mantissa and exponent to binary\n",
    "def me_2_bin(m,e):\n",
    "    ####### Converts mantissa to binary\n",
    "    rem = m\n",
    "    sb = np.zeros(53)\n",
    "    i = 0\n",
    "    for k in range(-1,-53,-1):\n",
    "        if rem >= 2**k:\n",
    "            #print(\"remainder:\", rem, \"2^k:\", 2**k, \"k:\",k)\n",
    "            sb[i] = 1\n",
    "            rem -= 2**k\n",
    "            i +=1\n",
    "        else:\n",
    "            sb[i]= 0   \n",
    "            i +=1\n",
    "    ########\n",
    "    #Convert exponent to binary\n",
    "    rem = e\n",
    "    se = np.zeros(10)\n",
    "    i = 0\n",
    "    for k in range(9,0,-1):\n",
    "        if rem >= 2**k:\n",
    "            se[i] = 1\n",
    "            rem -= 2**k\n",
    "            i +=1\n",
    "        else:\n",
    "            se[i] = 0\n",
    "            i +=1\n",
    "    print(\"Exponent:\", se, \"Mantissa:\", sb)\n",
    "    return sb,se\n",
    "\n",
    "mantissa, exponent = me_2_bin(man,E)\n",
    "\n"
   ]
  },
  {
   "cell_type": "code",
   "execution_count": null,
   "metadata": {},
   "outputs": [],
   "source": [
    "###"
   ]
  },
  {
   "cell_type": "code",
   "execution_count": 31,
   "metadata": {},
   "outputs": [
    {
     "data": {
      "text/plain": [
       "'10:1'"
      ]
     },
     "execution_count": 31,
     "metadata": {},
     "output_type": "execute_result"
    }
   ],
   "source": [
    "def float_2_bin(num):\n",
    "    ####\n",
    "    #Split number into integer part and decimal part\n",
    "    import math\n",
    "    dec,inte = math.modf(num)\n",
    "    decimal = dec\n",
    "    #####\n",
    "    #Integer to binary\n",
    "    bi = (bin(int(inte)))\n",
    "    res = bi.removeprefix('0b')\n",
    "\n",
    "    ######\n",
    "    #Decminal to binary\n",
    "    if decimal != 0.0:\n",
    "        res2 =''\n",
    "        n = 0\n",
    "        while True:\n",
    "            dec = dec * 2\n",
    "            dec,i = math.modf(dec)\n",
    "            i = int(i)\n",
    "            res2 += str(i)\n",
    "            if dec ==0:\n",
    "                break\n",
    "            n = n +1\n",
    "        result = res + ':'+res2\n",
    "    if decimal == 0.0:\n",
    "        result = res\n",
    "    return result\n",
    "\n",
    "float_2_bin(2.5)\n"
   ]
  },
  {
   "cell_type": "code",
   "execution_count": 25,
   "metadata": {},
   "outputs": [
    {
     "data": {
      "text/plain": [
       "(0.625, 2)"
      ]
     },
     "execution_count": 25,
     "metadata": {},
     "output_type": "execute_result"
    }
   ],
   "source": [
    "import math\n",
    "math.frexp(2.5)"
   ]
  },
  {
   "attachments": {},
   "cell_type": "markdown",
   "metadata": {},
   "source": [
    "### Question 2\n",
    "\n",
    "Show the Taylor series for sin(x) for zero- through fifth-order.\n",
    "Evaluate sin(x) for xi+1 = π/3 using a base point of xi = π/4 using the zero-\n",
    "through fifth-order Taylor series expansions. Calculate the true and\n",
    "approximate relative error for each estimate. Why is π/4 a convenient\n",
    "base point for this function?"
   ]
  },
  {
   "attachments": {},
   "cell_type": "markdown",
   "metadata": {},
   "source": []
  },
  {
   "cell_type": "code",
   "execution_count": 141,
   "metadata": {},
   "outputs": [
    {
     "name": "stdout",
     "output_type": "stream",
     "text": [
      "solution: 0.7071067811865475 True Error: 18.3503419072274 Approximate Error: None\n",
      "1\n",
      "solution: 0.8922269036098127 True Error: -3.0254885954703363 Approximate Error: 20.748099129750262\n",
      "2\n",
      "solution: 0.8679947362499555 True Error: -0.22739892581800955 Approximate Error: 2.791741279970057\n",
      "6\n",
      "solution: 0.8658800807233364 True Error: 0.016780461689357797 Approximate Error: 0.24422036881279358\n",
      "24\n",
      "solution: 0.8660184846039052 True Error: 0.0007989581487078311 Approximate Error: 0.01598163122719495\n",
      "120\n",
      "solution: 0.8660257314141455 True Error: -3.783141989694536e-05 Approximate Error: 0.0008367892520355209\n"
     ]
    },
    {
     "data": {
      "text/plain": [
       "0.8660254037844386"
      ]
     },
     "execution_count": 141,
     "metadata": {},
     "output_type": "execute_result"
    }
   ],
   "source": [
    "\n",
    "\n",
    "h = np.pi/3 - np.pi/4 # pi/12\n",
    "x = np.pi/4\n",
    "fun = math.sin(x)\n",
    "der1 = math.cos(x)\n",
    "der2 = -1*math.sin(x)\n",
    "der3 = -1*math.cos(x)\n",
    "der4 = math.sin(x)\n",
    "der5 = math.cos(x)\n",
    "der =[fun,der1,der2,der3,der4,der5]\n",
    "true_answer = math.sin(np.pi/3)\n",
    "ea = None\n",
    "fact = 1\n",
    "for i in range(6):\n",
    "    if i ==0:\n",
    "        sol = der[i]\n",
    "        et = ((true_answer-sol)/(true_answer))*100\n",
    "    if i !=0:\n",
    "        oldsol =sol\n",
    "        fact *=i\n",
    "        sol = oldsol + (der[i]/fact)*h**i\n",
    "        #sol = oldsol + (der[i]/math.factorial(i))*h**i\n",
    "        et = ((true_answer-sol)/(true_answer))*100\n",
    "        ea = abs((sol - oldsol) / sol)*100\n",
    "        print(fact)\n",
    "    print(\"solution:\",sol,\"True Error:\",et,\"Approximate Error:\", ea)\n",
    "\n",
    "math.sin(np.pi/3)\n"
   ]
  },
  {
   "cell_type": "code",
   "execution_count": 199,
   "metadata": {},
   "outputs": [
    {
     "name": "stdout",
     "output_type": "stream",
     "text": [
      "sol = 0.9248322292886504 et = 7.516777071134961 ea = 69.84662483087337\n",
      "sol = 1.0045248555348174 et = -0.4524855534817407 ea = 7.933365292762019\n",
      "sol = 0.9998431013994987 et = 0.015689860050127624 ea = 0.46824888112600327\n",
      "sol = 1.0000035425842861 et = -0.0003542584286142514 ea = 0.01604406164130122\n"
     ]
    },
    {
     "data": {
      "text/plain": [
       "(0.999999943741051, 0.00035988434376645854, 5.625894905492146e-06, 6)"
      ]
     },
     "execution_count": 199,
     "metadata": {},
     "output_type": "execute_result"
    }
   ],
   "source": [
    "# def sin_sol(x,es,maxit):\n",
    "\n",
    "#     n = 0\n",
    "#     sol = x\n",
    "#     ea = 100\n",
    "#     while True:\n",
    "#         if n == 0:\n",
    "#             solold = sol\n",
    "#             sol = (-1)**n * ((x**(2*n+1)) / (math.factorial(2*n+1)))\n",
    "#             n +=1\n",
    "#         if n >0:\n",
    "#             solold = sol\n",
    "#             sol = sol + (-1)**n * ((x**(2*n+1)) / (math.factorial(2*n+1)))\n",
    "#             n +=1\n",
    "#         if sol != 0:\n",
    "#             ea = abs((sol - solold) / sol)*100\n",
    "#             et = ((math.sin(x) - sol) / math.sin(x))*100\n",
    "#         if ea <= es or n >= maxit:\n",
    "#             break\n",
    "#         print(\"sol =\", sol, \"et =\", et, \"ea =\", ea)\n",
    "#     v = sol    \n",
    "#     return v, ea, et,n\n",
    "\n",
    "# n = 5\n",
    "# es = 0.5 * 10 **(2-n)\n",
    "# sin_sol(np.pi/2, es, 10)"
   ]
  },
  {
   "cell_type": "code",
   "execution_count": null,
   "metadata": {},
   "outputs": [],
   "source": [
    "\n"
   ]
  },
  {
   "attachments": {},
   "cell_type": "markdown",
   "metadata": {},
   "source": [
    "### Question 3\n",
    "\n",
    "Generate sample values of ex from x = 0 to x = 5 using a step\n",
    "size Δx = 0.5. Estimate the value of e2.4 using zero- through fourth-order\n",
    "polynomial interpolation. Do this using the Vandermonde matrix,\n",
    "Newton IP and Lagrange IP methods. Calculate the true and approximate\n",
    "relative error for each estimate"
   ]
  },
  {
   "cell_type": "code",
   "execution_count": 148,
   "metadata": {},
   "outputs": [],
   "source": [
    "dx = 0.5\n",
    "X = np.arange(0,5,dx)\n",
    "true_value = math.exp(2.4)\n",
    "\n"
   ]
  },
  {
   "cell_type": "markdown",
   "metadata": {},
   "source": []
  }
 ],
 "metadata": {
  "kernelspec": {
   "display_name": "base",
   "language": "python",
   "name": "python3"
  },
  "language_info": {
   "codemirror_mode": {
    "name": "ipython",
    "version": 3
   },
   "file_extension": ".py",
   "mimetype": "text/x-python",
   "name": "python",
   "nbconvert_exporter": "python",
   "pygments_lexer": "ipython3",
   "version": "3.9.13"
  },
  "orig_nbformat": 4,
  "vscode": {
   "interpreter": {
    "hash": "40d3a090f54c6569ab1632332b64b2c03c39dcf918b08424e98f38b5ae0af88f"
   }
  }
 },
 "nbformat": 4,
 "nbformat_minor": 2
}
