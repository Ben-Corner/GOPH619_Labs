{
 "cells": [
  {
   "attachments": {},
   "cell_type": "markdown",
   "metadata": {},
   "source": [
    "# GOPH 619 Lab1\n",
    "\n",
    "\n",
    "### <b>Question 1:</b>\n",
    "Express the number 1.481 in floating point binary format, as\n",
    "discussed in class. Clearly show the binary strings representing the\n",
    "exponent and the mantissa. At what digit does the “true error” in the\n",
    "mantissa reach zero? Do you think that your result has zero round-off\n",
    "error? Explain"
   ]
  },
  {
   "cell_type": "code",
   "execution_count": 3,
   "metadata": {},
   "outputs": [
    {
     "name": "stdout",
     "output_type": "stream",
     "text": [
      "Mantissa #: 0.7405 Exponent #: 1\n",
      "Exponent: [0. 0. 0. 0. 0. 0. 0. 0. 0. 0.] Mantissa: [1. 0. 1. 1. 1. 1. 0. 1. 1. 0. 0. 1. 0. 0. 0. 1. 0. 1. 1. 0. 1. 0. 0. 0.\n",
      " 0. 1. 1. 1. 0. 0. 1. 0. 1. 0. 1. 1. 0. 0. 0. 0. 0. 0. 1. 0. 0. 0. 0. 0.\n",
      " 1. 1. 0. 0. 0.]\n"
     ]
    }
   ],
   "source": [
    "######\n",
    "import numpy as np\n",
    "import matplotlib.pyplot as plt\n",
    "\n",
    "####Convert Decimal to mantissa and exponent\n",
    "def decimal_2_mne(num):\n",
    "    ########Convert decimal to base 2\n",
    "    #Find if num is greater or less than 1\n",
    "    n = 0\n",
    "    while True:\n",
    "        if num >1:\n",
    "            num /= 2\n",
    "            e = n+1\n",
    "            n += 1\n",
    "            #print(remainder,'if')\n",
    "        else:\n",
    "            num *= 2\n",
    "            e = n-1\n",
    "            n +=1\n",
    "            #print(remainder,'else')\n",
    "        if num>=0.5 and num <1:\n",
    "            break\n",
    "    print(\"Mantissa #:\", num, \"Exponent #:\", e)\n",
    "    return num, e\n",
    "\n",
    "value = 1.481\n",
    "man, e = decimal_2_mne(value)\n",
    "\n",
    "\n",
    "####Convert mantissa and exponent to binary\n",
    "def me_2_bin(m,e):\n",
    "    ####### Converts mantissa to binary\n",
    "    rem = m\n",
    "    sb = np.zeros(53)\n",
    "    i = 0\n",
    "    for k in range(-1,-53,-1):\n",
    "        if rem >= 2**k:\n",
    "            #print(\"remainder:\", rem, \"2^k:\", 2**k, \"k:\",k)\n",
    "            sb[i] = 1\n",
    "            rem -= 2**k\n",
    "            i +=1\n",
    "        else:\n",
    "            sb[i]= 0   \n",
    "            i +=1\n",
    "    ########\n",
    "    #Convert exponent to binary\n",
    "    rem = e\n",
    "    se = np.zeros(10)\n",
    "    i = 0\n",
    "    for k in range(9,0,-1):\n",
    "        if rem >= 2**k:\n",
    "            se[i] = 1\n",
    "            rem -= 2**k\n",
    "            i +=1\n",
    "        else:\n",
    "            se[i] = 0\n",
    "            i +=1\n",
    "    print(\"Exponent:\", se, \"Mantissa:\", sb)\n",
    "    return sb,se\n",
    "\n",
    "mantissa, exponent = me_2_bin(man,e)\n"
   ]
  },
  {
   "attachments": {},
   "cell_type": "markdown",
   "metadata": {},
   "source": [
    "##### <b>At what digit does the True error in the Mantissa reach zero? </b>\n",
    "The True error in the Mantissa reaches zero at the 53rd digit because that is max for double precision\n",
    "\n",
    "##### <b>Does the result have roundoff error?</b>\n"
   ]
  },
  {
   "attachments": {},
   "cell_type": "markdown",
   "metadata": {},
   "source": [
    "### <b>Question 2 </b>\n",
    "\n",
    "Show the Taylor series for sin(x) for zero- through fifth-order.\n",
    "Evaluate sin(x) for xi+1 = π/3 using a base point of xi = π/4 using the zero-\n",
    "through fifth-order Taylor series expansions. Calculate the true and\n",
    "approximate relative error for each estimate. Why is π/4 a convenient\n",
    "base point for this function?"
   ]
  },
  {
   "cell_type": "code",
   "execution_count": 2,
   "metadata": {},
   "outputs": [
    {
     "name": "stdout",
     "output_type": "stream",
     "text": [
      "Iterations: 0 solution: 0.7071067811865475 True Error: 18.3503419072274 Approximate Error: None\n",
      "Iterations: 1 solution: 0.8922269036098127 True Error: -3.0254885954703363 Approximate Error: 20.748099129750262\n",
      "Iterations: 2 solution: 0.8679947362499555 True Error: -0.22739892581800955 Approximate Error: 2.791741279970057\n",
      "Iterations: 3 solution: 0.8658800807233364 True Error: 0.016780461689357797 Approximate Error: 0.24422036881279358\n",
      "Iterations: 4 solution: 0.8660184846039052 True Error: 0.0007989581487078311 Approximate Error: 0.01598163122719495\n",
      "Iterations: 5 solution: 0.8660257314141455 True Error: -3.783141989694536e-05 Approximate Error: 0.0008367892520355209\n"
     ]
    },
    {
     "data": {
      "text/plain": [
       "(0.8660257314141455, 0.0008367892520355209, -3.783141989694536e-05)"
      ]
     },
     "execution_count": 2,
     "metadata": {},
     "output_type": "execute_result"
    }
   ],
   "source": [
    "import math\n",
    "def taylor_sin(x,x_true, order=5):\n",
    "\n",
    "    \"\"\" n-order taylor series for sin \n",
    "    \"\"\"\n",
    "    h = x - x_true\n",
    "    fun = math.sin(x_true)\n",
    "    der1 = math.cos(x_true)\n",
    "    der2 = -1*math.sin(x_true)\n",
    "    der3 = -1*math.cos(x_true)\n",
    "    der4 = math.sin(x_true)\n",
    "    der5 = math.cos(x_true)\n",
    "    der =[fun,der1,der2,der3,der4,der5]\n",
    "    true_a = math.sin(x)\n",
    "\n",
    "    ea = None\n",
    "    fact = 1\n",
    "    for i in range(6):\n",
    "        if i ==0:\n",
    "            sol = der[i]\n",
    "            et = ((true_a-sol)/(true_a))*100    \n",
    "        if i != 0:\n",
    "            oldsol =sol\n",
    "            fact *=i\n",
    "            sol = oldsol + (der[i]/fact)*h**i\n",
    "            #sol = oldsol + (der[i]/math.factorial(i))*h**i\n",
    "            et = ((true_a-sol)/(true_a))*100\n",
    "            ea = abs((sol - oldsol) / sol)*100\n",
    "            #print(fact)\n",
    "        print(\"Iterations:\", i, \"solution:\",sol,\"True Error:\",et,\"Approximate Error:\", ea)            \n",
    "                    \n",
    "    return sol, ea, et\n",
    "\n",
    "\n",
    "taylor_sin(math.pi/3,math.pi/4,5)"
   ]
  },
  {
   "attachments": {},
   "cell_type": "markdown",
   "metadata": {},
   "source": [
    "$ \\frac{\\pi}{4} $ is a good base point to used because it evaluates the same value, but with different signs, for the derivatives. $\\frac{1}{\\sqrt{2}}$\n"
   ]
  },
  {
   "attachments": {},
   "cell_type": "markdown",
   "metadata": {},
   "source": [
    "### <b>Question 3</b>\n",
    "\n",
    "Generate sample values of ex from x = 0 to x = 5 using a step\n",
    "size Δx = 0.5. Estimate the value of e2.4 using zero- through fourth-order\n",
    "polynomial interpolation. Do this using the Vandermonde matrix,\n",
    "Newton IP and Lagrange IP methods. Calculate the true and approximate\n",
    "relative error for each estimate"
   ]
  },
  {
   "cell_type": "code",
   "execution_count": 14,
   "metadata": {},
   "outputs": [
    {
     "name": "stdout",
     "output_type": "stream",
     "text": [
      "True Value of exp(x) using our function: 11.0231763806416\n",
      "Value using numpy: 11.023176380641601\n"
     ]
    }
   ],
   "source": [
    "import numpy as np\n",
    "import math\n",
    "import matplotlib.pyplot as plt\n",
    "#Create X array\n",
    "dx = 0.5\n",
    "X_a = np.arange(0,5,dx)\n",
    "true_value = math.exp(2.4)\n",
    "\n",
    "#Define E^x\n",
    "def exp(x):\n",
    "    \"\"\"Exponential function\n",
    "\n",
    "    Parameters\n",
    "    ----------\n",
    "    x : array_like\n",
    "        Arguments to exp functions\n",
    "    \n",
    "    Returns\n",
    "    -------\n",
    "    numpy.ndarray\n",
    "        Result of exp function\n",
    "    \"\"\"\n",
    "    x = np.array(x) #Convert x to numpy array to check array_like\n",
    "    #Initalization\n",
    "    k = 0\n",
    "    fact_k = 1\n",
    "    x_k = np.ones_like(x)\n",
    "    s = np.ones_like(x)\n",
    "    err = np.ones_like(x)\n",
    "    tol = 1.e-16\n",
    "    #Iteration\n",
    "    while err.max() > tol:\n",
    "        k +=1         # increment iteration counter\n",
    "        fact_k *= k     #Update factorial \n",
    "        x_k *= x        # update X^k\n",
    "        t = x_k / fact_k\n",
    "        s += t\n",
    "        err = abs(t/s)\n",
    "\n",
    "    return s\n",
    "\n",
    "#Create true values of E^x\n",
    "Y_a = np.zeros(X_a.shape)\n",
    "for k, xk in enumerate(X_a):\n",
    "    Y_a[k] = exp(xk)\n",
    "true  = exp(2.4)\n",
    "print(f\"True Value of exp(x) using our function:\", true)\n",
    "print(\"Value using numpy:\", np.exp(2.4))\n"
   ]
  },
  {
   "cell_type": "code",
   "execution_count": 79,
   "metadata": {},
   "outputs": [
    {
     "name": "stdout",
     "output_type": "stream",
     "text": [
      "Vandermonde Matrix method: 11.023177841033915\n"
     ]
    }
   ],
   "source": [
    "# #Vandermonde Matrix\n",
    "\n",
    "# array = np.vander(X_a,N=10)  #Create vandermonde matrix\n",
    "# coef_v = np.linalg.solve(array,Y_a) #Solve for coefficients\n",
    "# value = 2.4\n",
    "# answer_v = np.polyval(coef_v,value)   #Compute the polynomial\n",
    "# print(\"Vandermonde Matrix method:\", answer_v)"
   ]
  },
  {
   "cell_type": "code",
   "execution_count": 70,
   "metadata": {},
   "outputs": [
    {
     "data": {
      "text/plain": [
       "8.705526384537096"
      ]
     },
     "execution_count": 70,
     "metadata": {},
     "output_type": "execute_result"
    }
   ],
   "source": [
    "# #Vandermonde matrix new\n",
    "# A = np.array([[1,X_a[0], X_a[0]**2], [1, X_a[1], X_a[1]**2],\\\n",
    "#             [1,X_a[2], X_a[2]**2]])\n",
    "# b = np.array([Y_a[0], Y_a[1], Y_a[2]]).T\n",
    "# res = np.linalg.solve(A,b)\n",
    "# new = np.polyval(res,2.4)\n",
    "# new"
   ]
  },
  {
   "cell_type": "code",
   "execution_count": 92,
   "metadata": {},
   "outputs": [
    {
     "name": "stdout",
     "output_type": "stream",
     "text": [
      "1.0\n",
      "3.6974425414002554\n",
      "8.705526384537096\n",
      "20.99518608445859\n",
      "50.30249130028235\n"
     ]
    }
   ],
   "source": [
    "def vander_matrix(n,X,Y,value):\n",
    "    # n = 4+1\n",
    "    n = n+1\n",
    "    A = np.zeros([n,n])\n",
    "    b = np.zeros(n)\n",
    "    for i in range(n):\n",
    "        for j in range(n):\n",
    "            if j == 0 :\n",
    "                A[i,j] = 1\n",
    "            else:\n",
    "                A[i,j] = X_a[i] ** j\n",
    "        b[i] = Y_a[i]\n",
    "    coef = np.linalg.solve(A,b)\n",
    "    result = np.polyval(coef,value)\n",
    "    print(result)\n",
    "    return result\n",
    "m = 5\n",
    "Answer = np.zeros(m)\n",
    "for i in range(m):\n",
    "    Answer[i] = vander_matrix(i,X_a,Y_a,2.4)"
   ]
  },
  {
   "attachments": {},
   "cell_type": "markdown",
   "metadata": {},
   "source": [
    "$$f_{4}(x) = b_{0} + b_{1}(x-x_{0}) + b_{2}(x-x_{0})(x-x_{1}) + b_{3}(x-x_{0})(x-x_{1})(x-x_{2}) + b_{4}(x-x_{0})(x-x_{1})(x-x_{2})(x-x_{3}) $$\n",
    "\n",
    "\n",
    "$$ b_{0} = f(x_{0}) = e^{0} $$"
   ]
  },
  {
   "cell_type": "code",
   "execution_count": 58,
   "metadata": {},
   "outputs": [
    {
     "data": {
      "text/plain": [
       "10.954141055593004"
      ]
     },
     "execution_count": 58,
     "metadata": {},
     "output_type": "execute_result"
    }
   ],
   "source": [
    "dx = 0.5\n",
    "X_n = np.arange(0,5,dx)\n",
    "Y_n = np.zeros(X_n.shape)\n",
    "for k, xk in enumerate(X_n):\n",
    "    Y_n[k] = exp(xk)\n",
    "n = 4\n",
    "xx = 2.4\n",
    "\n",
    "def divide_diff(X,Y,n,xx,y0):\n",
    "    dd = np.zeros([n,n])\n",
    "    for i in range(n):\n",
    "        for j in range(n-i):\n",
    "            dd[i,j] = (Y[j+1] - Y[j]) / (X[i+j+1] - X[j])\n",
    "        Y = dd[i,:]\n",
    "\n",
    "    coef = dd[:,0]\n",
    "    sum = y0\n",
    "    result = np.zeros(n)\n",
    "    T = 1.\n",
    "    #single value algorithm\n",
    "    for i in range(n):\n",
    "        T *= (xx - X[i])\n",
    "        result[i] = coef[i] * T\n",
    "        sum += result[i]\n",
    "    #Array Algorithm\n",
    "    # temp = np.zeros(xx.shape)\n",
    "    # for i in range(n):\n",
    "    #     temp = (xx - X[i])\n",
    "    #     T *= temp\n",
    "    #     result = coef[i] * T\n",
    "\n",
    "\n",
    "    return sum\n",
    "\n",
    "answer_n = divide_diff(X_n,Y_n,n,xx,Y_n[0])\n",
    "answer_n\n",
    "#divide_diff(X_n,Y_n,n,X_a,Y_n[0])"
   ]
  },
  {
   "cell_type": "code",
   "execution_count": 60,
   "metadata": {},
   "outputs": [
    {
     "data": {
      "text/plain": [
       "array([ 1.        ,  1.64872127,  2.71828183,  4.48168907,  7.3890561 ,\n",
       "       12.06760172, 19.32165045, 30.13263251, 45.65908383, 67.23664602])"
      ]
     },
     "execution_count": 60,
     "metadata": {},
     "output_type": "execute_result"
    }
   ],
   "source": [
    "#Loop to get newton values to plot\n",
    "R = np.zeros(X_n.shape)\n",
    "for i in range(len(X_n)):\n",
    "    R[i] = divide_diff(X_n, Y_n, n, X_n[i], Y_n[0])\n"
   ]
  },
  {
   "cell_type": "code",
   "execution_count": 8,
   "metadata": {},
   "outputs": [
    {
     "name": "stdout",
     "output_type": "stream",
     "text": [
      "Lagrange answer: 10.27575536112267\n"
     ]
    }
   ],
   "source": [
    "########\n",
    "#LAgrange polynomial interpolation\n",
    "\n",
    "dx = 0.5\n",
    "X_l = np.arange(0,5,dx)\n",
    "Y_l = np.zeros(X_l.shape)\n",
    "for k, xk in enumerate(X_l):\n",
    "    Y_l[k] = exp(xk)\n",
    "n = 4\n",
    "xx = 2.4\n",
    "\n",
    "def lagrange(x,y,n,xx):\n",
    "    sum = 0\n",
    "    for i in range(n):\n",
    "        product = y[i]\n",
    "        for j in range(n):\n",
    "            if i != j:\n",
    "                product *= (xx - x[j]) / (x[i] - x[j])\n",
    "        sum += product\n",
    "    return sum\n",
    "    \n",
    "answer_l = lagrange(X_l,Y_l,n,xx)\n",
    "print(\"Lagrange answer:\", answer_l)"
   ]
  },
  {
   "cell_type": "markdown",
   "metadata": {},
   "source": []
  },
  {
   "cell_type": "code",
   "execution_count": 61,
   "metadata": {},
   "outputs": [
    {
     "name": "stdout",
     "output_type": "stream",
     "text": [
      "Approx error of Vandermonde: 1.3248380186374954e-05\n",
      "Approx error of Newton: -0.6262743393077901\n",
      "Approx error of Lagrange: -6.780450513624335\n"
     ]
    },
    {
     "data": {
      "image/png": "[encoded data removed]",
      "text/plain": [
       "<Figure size 400x400 with 1 Axes>"
      ]
     },
     "metadata": {},
     "output_type": "display_data"
    }
   ],
   "source": [
    "# #True & Approx Error\n",
    "# #Error V\n",
    "# e_V = ((answer_v - true) / true) * 100\n",
    "# e_N = ((answer_n - true) / true) * 100\n",
    "# e_L = ((answer_l - true) / true) * 100\n",
    "# print(\"Approx error of Vandermonde:\", e_V)\n",
    "# print(\"Approx error of Newton:\", e_N)\n",
    "# print(\"Approx error of Lagrange:\", e_L)\n",
    "\n",
    "# plt.figure(figsize = (4,4))\n",
    "# plt.plot(X_a,Y_a,'-ro', label = \"Series solution\")\n",
    "# plt.plot(X_a,np.exp(X_a), \"--b.\", label = \"Numpy\")\n",
    "# plt.plot(X_a,np.polyval(coef_v,X_a), \"ms\", label = \"Vandermonde\")\n",
    "\n",
    "# plt.plot(X_n,R, \"--g*\", label = \"Newton\")\n",
    "\n",
    "\n",
    "# plt.plot(X_l,lagrange(X_l,Y_l,n,X_l), \"--k^\", label = \"Lagrange\")\n",
    "# plt.xlim([1,3])\n",
    "# plt.ylim([0,20])\n",
    "# plt.vlines(2.4,0,20)\n",
    "# plt.hlines(np.exp(2.4),0,3)\n",
    "# plt.xlabel(\"X\")\n",
    "# plt.ylabel(\"exp(x)\")\n",
    "# plt.title(\"True value of exp(x)\")\n",
    "# plt.legend()\n",
    "# plt.show()"
   ]
  },
  {
   "cell_type": "code",
   "execution_count": null,
   "metadata": {},
   "outputs": [],
   "source": []
  }
 ],
 "metadata": {
  "kernelspec": {
   "display_name": "base",
   "language": "python",
   "name": "python3"
  },
  "language_info": {
   "codemirror_mode": {
    "name": "ipython",
    "version": 3
   },
   "file_extension": ".py",
   "mimetype": "text/x-python",
   "name": "python",
   "nbconvert_exporter": "python",
   "pygments_lexer": "ipython3",
   "version": "3.9.13"
  },
  "orig_nbformat": 4,
  "vscode": {
   "interpreter": {
    "hash": "40d3a090f54c6569ab1632332b64b2c03c39dcf918b08424e98f38b5ae0af88f"
   }
  }
 },
 "nbformat": 4,
 "nbformat_minor": 2
}
