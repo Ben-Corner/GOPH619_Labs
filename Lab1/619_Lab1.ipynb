{
 "cells": [
  {
   "attachments": {},
   "cell_type": "markdown",
   "metadata": {},
   "source": [
    "# GOPH 619 Lab1\n",
    "\n",
    "\n",
    "### Question 1:\n",
    "Express the number 1.481 in floating point binary format, as\n",
    "discussed in class. Clearly show the binary strings representing the\n",
    "exponent and the mantissa. At what digit does the “true error” in the\n",
    "mantissa reach zero? Do you think that your result has zero round-off\n",
    "error? Explain"
   ]
  },
  {
   "cell_type": "code",
   "execution_count": 1,
   "metadata": {},
   "outputs": [],
   "source": [
    "#### decimal to floating point\n",
    "\n"
   ]
  },
  {
   "cell_type": "code",
   "execution_count": 2,
   "metadata": {},
   "outputs": [
    {
     "data": {
      "text/plain": [
       "2.5"
      ]
     },
     "execution_count": 2,
     "metadata": {},
     "output_type": "execute_result"
    }
   ],
   "source": []
  },
  {
   "attachments": {},
   "cell_type": "markdown",
   "metadata": {},
   "source": [
    "### Question 2\n",
    "\n",
    "Show the Taylor series for sin(x) for zero- through fifth-order.\n",
    "Evaluate sin(x) for xi+1 = π/3 using a base point of xi = π/4 using the zero-\n",
    "through fifth-order Taylor series expansions. Calculate the true and\n",
    "approximate relative error for each estimate. Why is π/4 a convenient\n",
    "base point for this function?"
   ]
  },
  {
   "cell_type": "code",
   "execution_count": null,
   "metadata": {},
   "outputs": [],
   "source": []
  },
  {
   "cell_type": "code",
   "execution_count": null,
   "metadata": {},
   "outputs": [],
   "source": []
  },
  {
   "attachments": {},
   "cell_type": "markdown",
   "metadata": {},
   "source": [
    "### Question 3\n",
    "\n",
    "Generate sample values of ex from x = 0 to x = 5 using a step\n",
    "size Δx = 0.5. Estimate the value of e2.4 using zero- through fourth-order\n",
    "polynomial interpolation. Do this using the Vandermonde matrix,\n",
    "Newton IP and Lagrange IP methods. Calculate the true and approximate\n",
    "relative error for each estimate"
   ]
  },
  {
   "cell_type": "markdown",
   "metadata": {},
   "source": []
  }
 ],
 "metadata": {
  "kernelspec": {
   "display_name": "base",
   "language": "python",
   "name": "python3"
  },
  "language_info": {
   "codemirror_mode": {
    "name": "ipython",
    "version": 3
   },
   "file_extension": ".py",
   "mimetype": "text/x-python",
   "name": "python",
   "nbconvert_exporter": "python",
   "pygments_lexer": "ipython3",
   "version": "3.9.13"
  },
  "orig_nbformat": 4,
  "vscode": {
   "interpreter": {
    "hash": "40d3a090f54c6569ab1632332b64b2c03c39dcf918b08424e98f38b5ae0af88f"
   }
  }
 },
 "nbformat": 4,
 "nbformat_minor": 2
}
