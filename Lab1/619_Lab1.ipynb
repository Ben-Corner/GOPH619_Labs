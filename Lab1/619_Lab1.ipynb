{
 "cells": [
  {
   "attachments": {},
   "cell_type": "markdown",
   "metadata": {},
   "source": [
    "# GOPH 619 Lab1\n",
    "\n",
    "\n",
    "### Question 1:\n",
    "Express the number 1.481 in floating point binary format, as\n",
    "discussed in class. Clearly show the binary strings representing the\n",
    "exponent and the mantissa. At what digit does the “true error” in the\n",
    "mantissa reach zero? Do you think that your result has zero round-off\n",
    "error? Explain"
   ]
  },
  {
   "cell_type": "code",
   "execution_count": 27,
   "metadata": {},
   "outputs": [
    {
     "name": "stdout",
     "output_type": "stream",
     "text": [
      "Mantissa #: 0.7405 Exponent #: 1\n",
      "Exponent: [0. 0. 0. 0. 0. 0. 0. 0. 0. 0.] Mantissa: [1. 0. 1. 1. 1. 1. 0. 1. 1. 0. 0. 1. 0. 0. 0. 1. 0. 1. 1. 0. 1. 0. 0. 0.\n",
      " 0. 1. 1. 1. 0. 0. 1. 0. 1. 0. 1. 1. 0. 0. 0. 0. 0. 0. 1. 0. 0. 0. 0. 0.\n",
      " 1. 1. 0. 0. 0.]\n"
     ]
    }
   ],
   "source": [
    "######\n",
    "#New attempt\n",
    "import numpy as np\n",
    "import matplotlib.pyplot as plt\n",
    "####Convert Decimal to mantissa and exponent\n",
    "def decimal_2_mne(num):\n",
    "    ########Convert decimal to base 2\n",
    "    #Find if num is greater or less than 1\n",
    "    n = 0\n",
    "    while True:\n",
    "        if num >1:\n",
    "            num /= 2\n",
    "            e = n+1\n",
    "            n += 1\n",
    "            #print(remainder,'if')\n",
    "        else:\n",
    "            num *= 2\n",
    "            e = n-1\n",
    "            n +=1\n",
    "            #print(remainder,'else')\n",
    "        if num>=0.5 and num <1:\n",
    "            break\n",
    "    print(\"Mantissa #:\", num, \"Exponent #:\", e)\n",
    "    return num, e\n",
    "\n",
    "man, e = decimal_2_mne(1.481)\n",
    "\n",
    "\n",
    "####Convert mantissa and exponent to binary\n",
    "def me_2_bin(m,e):\n",
    "    ####### Converts mantissa to binary\n",
    "    rem = m\n",
    "    sb = np.zeros(53)\n",
    "    i = 0\n",
    "    for k in range(-1,-53,-1):\n",
    "        if rem >= 2**k:\n",
    "            #print(\"remainder:\", rem, \"2^k:\", 2**k, \"k:\",k)\n",
    "            sb[i] = 1\n",
    "            rem -= 2**k\n",
    "            i +=1\n",
    "        else:\n",
    "            sb[i]= 0   \n",
    "            i +=1\n",
    "    ########\n",
    "    #Convert exponent to binary\n",
    "    rem = e\n",
    "    se = np.zeros(10)\n",
    "    i = 0\n",
    "    for k in range(9,0,-1):\n",
    "        if rem >= 2**k:\n",
    "            se[i] = 1\n",
    "            rem -= 2**k\n",
    "            i +=1\n",
    "        else:\n",
    "            se[i] = 0\n",
    "            i +=1\n",
    "    print(\"Exponent:\", se, \"Mantissa:\", sb)\n",
    "    return sb,se\n",
    "\n",
    "mantissa, exponent = me_2_bin(man,e)\n",
    "\n"
   ]
  },
  {
   "attachments": {},
   "cell_type": "markdown",
   "metadata": {},
   "source": [
    "Explain Question 1"
   ]
  },
  {
   "attachments": {},
   "cell_type": "markdown",
   "metadata": {},
   "source": [
    "### Question 2\n",
    "\n",
    "Show the Taylor series for sin(x) for zero- through fifth-order.\n",
    "Evaluate sin(x) for xi+1 = π/3 using a base point of xi = π/4 using the zero-\n",
    "through fifth-order Taylor series expansions. Calculate the true and\n",
    "approximate relative error for each estimate. Why is π/4 a convenient\n",
    "base point for this function?"
   ]
  },
  {
   "cell_type": "code",
   "execution_count": 9,
   "metadata": {},
   "outputs": [
    {
     "name": "stdout",
     "output_type": "stream",
     "text": [
      "Iterations: 0 solution: 0.7071067811865475 True Error: 18.3503419072274 Approximate Error: None\n",
      "Iterations: 1 solution: 0.8922269036098127 True Error: -3.0254885954703363 Approximate Error: 20.748099129750262\n",
      "Iterations: 2 solution: 0.8679947362499555 True Error: -0.22739892581800955 Approximate Error: 2.791741279970057\n",
      "Iterations: 3 solution: 0.8658800807233364 True Error: 0.016780461689357797 Approximate Error: 0.24422036881279358\n",
      "Iterations: 4 solution: 0.8660184846039052 True Error: 0.0007989581487078311 Approximate Error: 0.01598163122719495\n",
      "Iterations: 5 solution: 0.8660257314141455 True Error: -3.783141989694536e-05 Approximate Error: 0.0008367892520355209\n"
     ]
    },
    {
     "data": {
      "text/plain": [
       "(0.8660257314141455, 0.0008367892520355209, -3.783141989694536e-05)"
      ]
     },
     "execution_count": 9,
     "metadata": {},
     "output_type": "execute_result"
    }
   ],
   "source": [
    "import math\n",
    "def taylor_sin(x,x_true, order=5):\n",
    "\n",
    "    \"\"\" n-order taylor series for sin \n",
    "    \"\"\"\n",
    "    h = x - x_true\n",
    "    fun = math.sin(x_true)\n",
    "    der1 = math.cos(x_true)\n",
    "    der2 = -1*math.sin(x_true)\n",
    "    der3 = -1*math.cos(x_true)\n",
    "    der4 = math.sin(x_true)\n",
    "    der5 = math.cos(x_true)\n",
    "    der =[fun,der1,der2,der3,der4,der5]\n",
    "    true_a = math.sin(x)\n",
    "\n",
    "    ea = None\n",
    "    fact = 1\n",
    "    for i in range(6):\n",
    "        if i ==0:\n",
    "            sol = der[i]\n",
    "            et = ((true_a-sol)/(true_a))*100    \n",
    "        if i != 0:\n",
    "            oldsol =sol\n",
    "            fact *=i\n",
    "            sol = oldsol + (der[i]/fact)*h**i\n",
    "            #sol = oldsol + (der[i]/math.factorial(i))*h**i\n",
    "            et = ((true_a-sol)/(true_a))*100\n",
    "            ea = abs((sol - oldsol) / sol)*100\n",
    "            #print(fact)\n",
    "        print(\"Iterations:\", i, \"solution:\",sol,\"True Error:\",et,\"Approximate Error:\", ea)            \n",
    "                    \n",
    "    return sol, ea, et\n",
    "\n",
    "\n",
    "taylor_sin(math.pi/3,math.pi/4,5)"
   ]
  },
  {
   "cell_type": "code",
   "execution_count": 9,
   "metadata": {},
   "outputs": [
    {
     "name": "stdout",
     "output_type": "stream",
     "text": [
      "Iterations: 0 solution: 0.7071067811865475 True Error: 18.3503419072274 Approximate Error: None\n",
      "Iterations: 1 solution: 0.8922269036098127 True Error: -3.0254885954703363 Approximate Error: 20.748099129750262\n",
      "Iterations: 2 solution: 0.8679947362499555 True Error: -0.22739892581800955 Approximate Error: 2.791741279970057\n",
      "Iterations: 3 solution: 0.8658800807233364 True Error: 0.016780461689357797 Approximate Error: 0.24422036881279358\n",
      "Iterations: 4 solution: 0.8660184846039052 True Error: 0.0007989581487078311 Approximate Error: 0.01598163122719495\n",
      "Iterations: 5 solution: 0.8660257314141455 True Error: -3.783141989694536e-05 Approximate Error: 0.0008367892520355209\n"
     ]
    },
    {
     "data": {
      "text/plain": [
       "0.8660254037844386"
      ]
     },
     "execution_count": 9,
     "metadata": {},
     "output_type": "execute_result"
    }
   ],
   "source": [
    "# import math\n",
    "\n",
    "# h = np.pi/3 - np.pi/4 # pi/12\n",
    "# x = np.pi/4\n",
    "# fun = math.sin(x)\n",
    "# der1 = math.cos(x)\n",
    "# der2 = -1*math.sin(x)\n",
    "# der3 = -1*math.cos(x)\n",
    "# der4 = math.sin(x)\n",
    "# der5 = math.cos(x)\n",
    "# der =[fun,der1,der2,der3,der4,der5]\n",
    "# true_answer = math.sin(np.pi/3)\n",
    "\n",
    "# ea = None\n",
    "# fact = 1\n",
    "# for i in range(6):\n",
    "#     if i ==0:\n",
    "#         sol = der[i]\n",
    "#         et = ((true_answer-sol)/(true_answer))*100\n",
    "#     if i !=0:\n",
    "#         oldsol =sol\n",
    "#         fact *=i\n",
    "#         sol = oldsol + (der[i]/fact)*h**i\n",
    "#         #sol = oldsol + (der[i]/math.factorial(i))*h**i\n",
    "#         et = ((true_answer-sol)/(true_answer))*100\n",
    "#         ea = abs((sol - oldsol) / sol)*100\n",
    "#         #print(fact)\n",
    "#     print(\"Iterations:\", i, \"solution:\",sol,\"True Error:\",et,\"Approximate Error:\", ea)\n",
    "\n",
    "# math.sin(np.pi/3)\n"
   ]
  },
  {
   "cell_type": "markdown",
   "metadata": {},
   "source": [
    "\n"
   ]
  },
  {
   "attachments": {},
   "cell_type": "markdown",
   "metadata": {},
   "source": [
    "### Question 3\n",
    "\n",
    "Generate sample values of ex from x = 0 to x = 5 using a step\n",
    "size Δx = 0.5. Estimate the value of e2.4 using zero- through fourth-order\n",
    "polynomial interpolation. Do this using the Vandermonde matrix,\n",
    "Newton IP and Lagrange IP methods. Calculate the true and approximate\n",
    "relative error for each estimate"
   ]
  },
  {
   "cell_type": "code",
   "execution_count": 75,
   "metadata": {},
   "outputs": [
    {
     "data": {
      "text/plain": [
       "array(11.02317638)"
      ]
     },
     "execution_count": 75,
     "metadata": {},
     "output_type": "execute_result"
    }
   ],
   "source": [
    "import numpy as np\n",
    "import math\n",
    "#Create X array\n",
    "dx = 0.5\n",
    "X = np.arange(0,5,dx)\n",
    "true_value = math.exp(2.4)\n",
    "#Define E^x\n",
    "def exp(x):\n",
    "    \"\"\"Exponential function\n",
    "\n",
    "    Parameters\n",
    "    ----------\n",
    "    x : array_like\n",
    "        Arguments to exp functions\n",
    "    \n",
    "    Returns\n",
    "    -------\n",
    "    numpy.ndarray\n",
    "        Result of exp function\n",
    "    \"\"\"\n",
    "    x = np.array(x) #Convert x to numpy array to check array_like\n",
    "    #Initalization\n",
    "    k = 0\n",
    "    fact_k = 1\n",
    "    x_k = np.ones_like(x)\n",
    "    s = np.ones_like(x)\n",
    "    err = np.ones_like(x)\n",
    "    tol = 1.e-16\n",
    "    #Iteration\n",
    "    while err.max() > tol:\n",
    "        k +=1         # increment iteration counter\n",
    "        fact_k *= k     #Update factorial \n",
    "        x_k *= x        # update X^k\n",
    "        t = x_k / fact_k\n",
    "        s += t\n",
    "        err = abs(t/s)\n",
    "\n",
    "    return s\n",
    "#Create values of E^x\n",
    "Y = np.zeros(X.shape)\n",
    "for k, xk in enumerate(X):\n",
    "    Y[k] = exp(xk)\n",
    "true  = exp(2.4)\n",
    "true\n"
   ]
  },
  {
   "cell_type": "code",
   "execution_count": 72,
   "metadata": {},
   "outputs": [
    {
     "name": "stdout",
     "output_type": "stream",
     "text": [
      "Answer: 10.732299801192006\n"
     ]
    }
   ],
   "source": [
    "#Vandermonde Matrix\n",
    "#x = np.linspace(1,4,4)\n",
    "y = np.zeros_like(X)\n",
    "for k, xk in enumerate(X):\n",
    "    y[k] = exp(xk)\n",
    "array = np.vander(X,N=10)\n",
    "coef = np.linalg.solve(array,y)\n",
    "value = 2.4\n",
    "answer_v = np.polyval(coef,value)\n",
    "print(\"Answer:\", answer)\n"
   ]
  },
  {
   "cell_type": "code",
   "execution_count": 73,
   "metadata": {},
   "outputs": [
    {
     "name": "stdout",
     "output_type": "stream",
     "text": [
      "Answer: 10.964202153877933\n"
     ]
    }
   ],
   "source": [
    "#Newton IP\n",
    "coef = np.polyfit(X, y,4)\n",
    "value = 2.4\n",
    "answer_n = np.polyval(coef,value) \n",
    "print(\"Answer:\", answer_n)"
   ]
  },
  {
   "cell_type": "code",
   "execution_count": 76,
   "metadata": {},
   "outputs": [
    {
     "name": "stdout",
     "output_type": "stream",
     "text": [
      "Answer: 10.964202153877933\n"
     ]
    }
   ],
   "source": [
    "#Lagrange IP\n",
    "poly = np.poly1d(np.polyfit(X,y,4))\n",
    "value = 2.4\n",
    "answer_l = poly(value)\n",
    "print(\"Answer:\", answer_l)"
   ]
  },
  {
   "cell_type": "markdown",
   "metadata": {},
   "source": []
  },
  {
   "cell_type": "code",
   "execution_count": 79,
   "metadata": {},
   "outputs": [
    {
     "name": "stdout",
     "output_type": "stream",
     "text": [
      "1.3248380186374954e-05 -0.5350021148825528 -0.5350021148825528\n"
     ]
    }
   ],
   "source": [
    "#True & Approx Error\n",
    "#Error V\n",
    "e_V = (answer_v - true) / true * 100\n",
    "e_N = (answer_n - true) / true * 100\n",
    "e_L = (answer_l - true) / true * 100\n",
    "print(e_V, e_N, e_L)"
   ]
  }
 ],
 "metadata": {
  "kernelspec": {
   "display_name": "base",
   "language": "python",
   "name": "python3"
  },
  "language_info": {
   "codemirror_mode": {
    "name": "ipython",
    "version": 3
   },
   "file_extension": ".py",
   "mimetype": "text/x-python",
   "name": "python",
   "nbconvert_exporter": "python",
   "pygments_lexer": "ipython3",
   "version": "3.9.13"
  },
  "orig_nbformat": 4,
  "vscode": {
   "interpreter": {
    "hash": "40d3a090f54c6569ab1632332b64b2c03c39dcf918b08424e98f38b5ae0af88f"
   }
  }
 },
 "nbformat": 4,
 "nbformat_minor": 2
}
