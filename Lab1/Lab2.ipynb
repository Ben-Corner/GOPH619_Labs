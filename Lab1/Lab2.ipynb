{
 "cells": [
  {
   "attachments": {},
   "cell_type": "markdown",
   "metadata": {},
   "source": [
    "## 619 Lab2"
   ]
  },
  {
   "attachments": {},
   "cell_type": "markdown",
   "metadata": {},
   "source": [
    "#### Question 1\n",
    "[8 marks] In class, we derived the finite difference formulae for f′(xi )\n",
    "and f′′(xi ) using central and forward differences. Repeat this process for a\n",
    "backward difference using (i) 3 sample points and (ii) 4 sample points.\n",
    "Compare your results with the formulae in Figure 23.2 in the Topic #1c\n",
    "notes. Make sure to clearly show the order of error for each formula"
   ]
  },
  {
   "cell_type": "code",
   "execution_count": null,
   "metadata": {},
   "outputs": [],
   "source": []
  },
  {
   "attachments": {},
   "cell_type": "markdown",
   "metadata": {},
   "source": [
    "#### Question 2\n",
    "[7 marks] Estimate the first derivative of ln(x) for x = 3 using step sizes\n",
    "of Δx = {0.5, 0.25, 0.125, 0.0625} with:\n",
    "\n",
    "a. First-order forward difference\n",
    "\n",
    "b. Second-order forward difference\n",
    "\n",
    "c. First-order backward difference\n",
    "\n",
    "d. Second-order backward difference\n",
    "\n",
    "e. Second-order central difference\n",
    "\n",
    "f. Fourth-order central difference\n",
    "\n",
    "g. Romberg integration (based on initial second-order CD estimates)\n",
    "\n",
    "Calculate the approximate relative error and true relative error for each\n",
    "estimate, as appropriate. Show convergence plots similar to those\n",
    "demonstrated in class"
   ]
  },
  {
   "attachments": {},
   "cell_type": "markdown",
   "metadata": {},
   "source": [
    "#### a)  First order forward difference\n",
    "\n",
    "$f^{'}(x_{0}) = \\frac{-1f(x_{0}) +f_{x+1}}{h_x} + Oh$"
   ]
  },
  {
   "cell_type": "code",
   "execution_count": 1,
   "metadata": {},
   "outputs": [
    {
     "data": {
      "text/plain": [
       "array([0, 0, 0, 0, 0, 0, 0, 0, 0, 0])"
      ]
     },
     "execution_count": 1,
     "metadata": {},
     "output_type": "execute_result"
    }
   ],
   "source": [
    "#a)\n",
    "#First order forward difference\n",
    "import numpy as np\n",
    "dx = np.array([0.5,0.25,0.125,0.0625])\n",
    "x = 3\n",
    "X = np.arange(0,9+1,1)\n",
    "ffd = np.zeros_like(X)\n",
    "\n"
   ]
  },
  {
   "cell_type": "code",
   "execution_count": null,
   "metadata": {},
   "outputs": [],
   "source": []
  }
 ],
 "metadata": {
  "kernelspec": {
   "display_name": ".venv_619Labs",
   "language": "python",
   "name": "python3"
  },
  "language_info": {
   "codemirror_mode": {
    "name": "ipython",
    "version": 3
   },
   "file_extension": ".py",
   "mimetype": "text/x-python",
   "name": "python",
   "nbconvert_exporter": "python",
   "pygments_lexer": "ipython3",
   "version": "3.9.13"
  },
  "orig_nbformat": 4,
  "vscode": {
   "interpreter": {
    "hash": "ba8d7b9e18fa140b0fb4c352127509612de672f2f4bfc56ae972fd833cbbd79c"
   }
  }
 },
 "nbformat": 4,
 "nbformat_minor": 2
}
